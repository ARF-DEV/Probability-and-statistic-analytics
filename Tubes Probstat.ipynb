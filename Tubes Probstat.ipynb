{
 "cells": [
  {
   "cell_type": "markdown",
   "metadata": {},
   "source": [
    "# Tubes Probabilitas dan Statistika\n",
    "Bab II - PENGUJIAN HIPOTESIS STATISTIK SATU ARAH DAN DUA ARAH"
   ]
  },
  {
   "cell_type": "markdown",
   "metadata": {},
   "source": [
    "### Importing Library"
   ]
  },
  {
   "cell_type": "code",
   "execution_count": 1,
   "metadata": {},
   "outputs": [],
   "source": [
    "import pandas as pd\n",
    "import numpy as np\n",
    "import matplotlib.pyplot as plt\n",
    "import seaborn as sns\n",
    "import os\n",
    "from scipy.stats import norm\n",
    "import statistics\n",
    "import math"
   ]
  },
  {
   "cell_type": "markdown",
   "metadata": {},
   "source": [
    "### checking Directory"
   ]
  },
  {
   "cell_type": "code",
   "execution_count": 2,
   "metadata": {
    "scrolled": true
   },
   "outputs": [
    {
     "name": "stdout",
     "output_type": "stream",
     "text": [
      "['.ipynb_checkpoints', 'bab3.rar', 'file tubes', 'heart.csv', 'population3_data.xlsx', 'probstat3_2019.csv', 'sample3_data.xlsx', 'Tubes Probstat.ipynb', '~$population3_data.xlsx', '~$sample3_data.xlsx']\n"
     ]
    }
   ],
   "source": [
    "#print directory\n",
    "print(os.listdir())"
   ]
  },
  {
   "cell_type": "markdown",
   "metadata": {},
   "source": [
    "### Loading some dataset"
   ]
  },
  {
   "cell_type": "code",
   "execution_count": 3,
   "metadata": {},
   "outputs": [
    {
     "name": "stdout",
     "output_type": "stream",
     "text": [
      "Table size =  (303, 14)\n",
      "Index(['age', 'sex', 'cp', 'trestbps', 'chol', 'fbs', 'restecg', 'thalach',\n",
      "       'exang', 'oldpeak', 'slope', 'ca', 'thal', 'target'],\n",
      "      dtype='object')\n"
     ]
    }
   ],
   "source": [
    "data = pd.read_csv(\"./heart.csv\")\n",
    "print(\"Table size = \", data.shape)\n",
    "print(data.columns)\n"
   ]
  },
  {
   "cell_type": "markdown",
   "metadata": {},
   "source": [
    "### Data cleansing"
   ]
  },
  {
   "cell_type": "code",
   "execution_count": 4,
   "metadata": {},
   "outputs": [
    {
     "name": "stdout",
     "output_type": "stream",
     "text": [
      "     age  trestbps\n",
      "58    34       118\n",
      "125   34       118\n",
      "239   35       126\n",
      "65    35       138\n",
      "227   35       120\n",
      "..   ...       ...\n",
      "104   50       129\n",
      "188   50       140\n",
      "184   50       150\n",
      "257   50       144\n",
      "15    50       120\n",
      "\n",
      "[94 rows x 2 columns]\n"
     ]
    },
    {
     "name": "stderr",
     "output_type": "stream",
     "text": [
      "<ipython-input-4-1059654b24f8>:2: SettingWithCopyWarning: \n",
      "A value is trying to be set on a copy of a slice from a DataFrame\n",
      "\n",
      "See the caveats in the documentation: https://pandas.pydata.org/pandas-docs/stable/user_guide/indexing.html#returning-a-view-versus-a-copy\n",
      "  data_clean.sort_values(by=['age'], inplace=True)\n"
     ]
    },
    {
     "data": {
      "text/html": [
       "<div>\n",
       "<style scoped>\n",
       "    .dataframe tbody tr th:only-of-type {\n",
       "        vertical-align: middle;\n",
       "    }\n",
       "\n",
       "    .dataframe tbody tr th {\n",
       "        vertical-align: top;\n",
       "    }\n",
       "\n",
       "    .dataframe thead th {\n",
       "        text-align: right;\n",
       "    }\n",
       "</style>\n",
       "<table border=\"1\" class=\"dataframe\">\n",
       "  <thead>\n",
       "    <tr style=\"text-align: right;\">\n",
       "      <th></th>\n",
       "      <th>age</th>\n",
       "      <th>trestbps</th>\n",
       "    </tr>\n",
       "  </thead>\n",
       "  <tbody>\n",
       "    <tr>\n",
       "      <th>count</th>\n",
       "      <td>94.000000</td>\n",
       "      <td>94.000000</td>\n",
       "    </tr>\n",
       "    <tr>\n",
       "      <th>mean</th>\n",
       "      <td>43.553191</td>\n",
       "      <td>124.606383</td>\n",
       "    </tr>\n",
       "    <tr>\n",
       "      <th>std</th>\n",
       "      <td>4.094625</td>\n",
       "      <td>12.698504</td>\n",
       "    </tr>\n",
       "    <tr>\n",
       "      <th>min</th>\n",
       "      <td>34.000000</td>\n",
       "      <td>94.000000</td>\n",
       "    </tr>\n",
       "    <tr>\n",
       "      <th>25%</th>\n",
       "      <td>41.000000</td>\n",
       "      <td>115.750000</td>\n",
       "    </tr>\n",
       "    <tr>\n",
       "      <th>50%</th>\n",
       "      <td>44.000000</td>\n",
       "      <td>122.000000</td>\n",
       "    </tr>\n",
       "    <tr>\n",
       "      <th>75%</th>\n",
       "      <td>46.750000</td>\n",
       "      <td>133.500000</td>\n",
       "    </tr>\n",
       "    <tr>\n",
       "      <th>max</th>\n",
       "      <td>50.000000</td>\n",
       "      <td>152.000000</td>\n",
       "    </tr>\n",
       "  </tbody>\n",
       "</table>\n",
       "</div>"
      ],
      "text/plain": [
       "             age    trestbps\n",
       "count  94.000000   94.000000\n",
       "mean   43.553191  124.606383\n",
       "std     4.094625   12.698504\n",
       "min    34.000000   94.000000\n",
       "25%    41.000000  115.750000\n",
       "50%    44.000000  122.000000\n",
       "75%    46.750000  133.500000\n",
       "max    50.000000  152.000000"
      ]
     },
     "execution_count": 4,
     "metadata": {},
     "output_type": "execute_result"
    }
   ],
   "source": [
    "\n",
    "data_clean = data[['age', 'trestbps']]\n",
    "data_clean.sort_values(by=['age'], inplace=True)\n",
    "data_clean = data_clean[data_clean['age'].between(30, 50)]\n",
    "print(data_clean)\n",
    "data_clean.describe()\n"
   ]
  },
  {
   "cell_type": "code",
   "execution_count": 5,
   "metadata": {},
   "outputs": [
    {
     "name": "stdout",
     "output_type": "stream",
     "text": [
      "Variansi Populasi Tekanan darah =  161.25200183024486\n",
      "Rata-rata Populasi Tekanan darah =  124.6063829787234\n"
     ]
    }
   ],
   "source": [
    "variansi_bps = data_clean.var()['trestbps']\n",
    "average_bps = data_clean.mean()['trestbps']\n",
    "std_bps = data_clean.std()['trestbps']\n",
    "print(\"Variansi Populasi Tekanan darah = \", str(variansi_bps))\n",
    "print(\"Rata-rata Populasi Tekanan darah = \", str(average_bps))"
   ]
  },
  {
   "cell_type": "code",
   "execution_count": 6,
   "metadata": {},
   "outputs": [
    {
     "name": "stdout",
     "output_type": "stream",
     "text": [
      "12.551960006309772\n"
     ]
    }
   ],
   "source": [
    "sqrt = 157.5517 ** 0.5\n",
    "print(sqrt)"
   ]
  },
  {
   "cell_type": "code",
   "execution_count": 7,
   "metadata": {},
   "outputs": [
    {
     "name": "stdout",
     "output_type": "stream",
     "text": [
      "0.11154209938670816\n"
     ]
    }
   ],
   "source": [
    "#perhitungan Z\n",
    "zh = 124.862-124.606383\n",
    "dzh = 12.55196 / (30**0.5)\n",
    "print(zh/dzh)"
   ]
  },
  {
   "cell_type": "code",
   "execution_count": 8,
   "metadata": {},
   "outputs": [
    {
     "data": {
      "image/png": "[encoded data removed]",
      "text/plain": [
       "<Figure size 432x288 with 1 Axes>"
      ]
     },
     "metadata": {
      "needs_background": "light"
     },
     "output_type": "display_data"
    }
   ],
   "source": [
    "mu = average_bps\n",
    "variance = variansi_bps\n",
    "sigma = math.sqrt(variance)\n",
    "x = np.linspace(mu - 3*sigma, mu + 3*sigma, 100)\n",
    "plt.plot(x, norm.pdf(x, mu, sigma))\n",
    "plt.show()"
   ]
  },
  {
   "cell_type": "code",
   "execution_count": 9,
   "metadata": {},
   "outputs": [
    {
     "name": "stderr",
     "output_type": "stream",
     "text": [
      "C:\\Users\\Gremlinflat\\anaconda3\\lib\\site-packages\\seaborn\\distributions.py:2551: FutureWarning: `distplot` is a deprecated function and will be removed in a future version. Please adapt your code to use either `displot` (a figure-level function with similar flexibility) or `histplot` (an axes-level function for histograms).\n",
      "  warnings.warn(msg, FutureWarning)\n"
     ]
    },
    {
     "data": {
      "text/plain": [
       "<AxesSubplot:xlabel='Tekanan Darah', ylabel='Density'>"
      ]
     },
     "execution_count": 9,
     "metadata": {},
     "output_type": "execute_result"
    },
    {
     "data": {
      "image/png": "[encoded data removed]",
      "text/plain": [
       "<Figure size 432x288 with 1 Axes>"
      ]
     },
     "metadata": {
      "needs_background": "light"
     },
     "output_type": "display_data"
    }
   ],
   "source": [
    "x_axis = pd.Series(data_clean['trestbps'], name=\"Tekanan Darah\")\n",
    "sns.distplot(x_axis)"
   ]
  },
  {
   "cell_type": "code",
   "execution_count": 10,
   "metadata": {},
   "outputs": [],
   "source": [
    "def draw_z_score(x, cond, mu, sigma, title, point):\n",
    "    y = norm.pdf(x, mu, sigma)\n",
    "    z = x[cond]\n",
    "    plt.plot(x, y)\n",
    "    plt.fill_between(z, 0, norm.pdf(z, mu, sigma), color='red')\n",
    "    plt.title(title)\n",
    "    plt.scatter(point,0, color='green')\n",
    "    plt.show()\n",
    "def draw_z_score2(x, cond1, cond2, mu, sigma, title, point):\n",
    "    y = norm.pdf(x, mu, sigma)\n",
    "    z1 = x[cond1]\n",
    "    z2 = x[cond2]\n",
    "    plt.plot(x, y)\n",
    "    plt.fill_between(z1, 0, norm.pdf(z1, mu, sigma), color='red')\n",
    "    plt.fill_between(z2, 0, norm.pdf(z2, mu, sigma), color='red')\n",
    "    plt.title(title)\n",
    "    plt.scatter(point, 0, color='green')\n",
    "    plt.show()"
   ]
  },
  {
   "cell_type": "code",
   "execution_count": 11,
   "metadata": {},
   "outputs": [
    {
     "data": {
      "image/png": "[encoded data removed]",
      "text/plain": [
       "<Figure size 432x288 with 1 Axes>"
      ]
     },
     "metadata": {
      "needs_background": "light"
     },
     "output_type": "display_data"
    }
   ],
   "source": [
    "x = np.arange(-3,3,0.0001)\n",
    "z0 = 1.645\n",
    "z_hypo = 0.1115420993\n",
    "draw_z_score(x, x>z0, 0, 1, 'Daerah Penolakan Hipotesis 1 Arah', z_hypo)"
   ]
  },
  {
   "cell_type": "code",
   "execution_count": 12,
   "metadata": {},
   "outputs": [
    {
     "data": {
      "image/png": "[encoded data removed]",
      "text/plain": [
       "<Figure size 432x288 with 1 Axes>"
      ]
     },
     "metadata": {
      "needs_background": "light"
     },
     "output_type": "display_data"
    }
   ],
   "source": [
    "x = np.arange(-3,3,0.0001)\n",
    "z0 = 1.96\n",
    "z_hypo = 0.1115420993\n",
    "draw_z_score2(x, (x<z0*-1), (x>z0), 0, 1, 'Daerah Penolakan Hipotesis 2 Arah', z_hypo)"
   ]
  },
  {
   "cell_type": "markdown",
   "metadata": {},
   "source": [
    "# Tubes Probabilitas dan Statistika\n",
    "Bab III - ANALISIS REGRESI LINIER"
   ]
  },
  {
   "cell_type": "markdown",
   "metadata": {},
   "source": [
    "### load data"
   ]
  },
  {
   "cell_type": "code",
   "execution_count": 13,
   "metadata": {},
   "outputs": [
    {
     "name": "stdout",
     "output_type": "stream",
     "text": [
      "Table size =  (156, 9)\n",
      "Index(['Overall rank', 'Country or region', 'Score', 'GDP per capita',\n",
      "       'Social support', 'Healthy life expectancy',\n",
      "       'Freedom to make life choices', 'Generosity',\n",
      "       'Perceptions of corruption'],\n",
      "      dtype='object')\n"
     ]
    }
   ],
   "source": [
    "data3 = pd.read_csv(\"./probstat3_2019.csv\")\n",
    "print(\"Table size = \", data3.shape)\n",
    "print(data3.columns)"
   ]
  },
  {
   "cell_type": "markdown",
   "metadata": {},
   "source": [
    "### Data cleansing"
   ]
  },
  {
   "cell_type": "code",
   "execution_count": 14,
   "metadata": {},
   "outputs": [
    {
     "name": "stdout",
     "output_type": "stream",
     "text": [
      "            Country or region  GDP per capita  Score\n",
      "0                     Finland           1.340  7.769\n",
      "1                     Denmark           1.383  7.600\n",
      "2                      Norway           1.488  7.554\n",
      "3                     Iceland           1.380  7.494\n",
      "4                 Netherlands           1.396  7.488\n",
      "..                        ...             ...    ...\n",
      "151                    Rwanda           0.359  3.334\n",
      "152                  Tanzania           0.476  3.231\n",
      "153               Afghanistan           0.350  3.203\n",
      "154  Central African Republic           0.026  3.083\n",
      "155               South Sudan           0.306  2.853\n",
      "\n",
      "[156 rows x 3 columns]\n",
      "   Country or region  GDP per capita  Score\n",
      "91         Indonesia           0.931  5.192\n"
     ]
    },
    {
     "data": {
      "text/html": [
       "<div>\n",
       "<style scoped>\n",
       "    .dataframe tbody tr th:only-of-type {\n",
       "        vertical-align: middle;\n",
       "    }\n",
       "\n",
       "    .dataframe tbody tr th {\n",
       "        vertical-align: top;\n",
       "    }\n",
       "\n",
       "    .dataframe thead th {\n",
       "        text-align: right;\n",
       "    }\n",
       "</style>\n",
       "<table border=\"1\" class=\"dataframe\">\n",
       "  <thead>\n",
       "    <tr style=\"text-align: right;\">\n",
       "      <th></th>\n",
       "      <th>GDP per capita</th>\n",
       "      <th>Score</th>\n",
       "    </tr>\n",
       "  </thead>\n",
       "  <tbody>\n",
       "    <tr>\n",
       "      <th>count</th>\n",
       "      <td>156.000000</td>\n",
       "      <td>156.000000</td>\n",
       "    </tr>\n",
       "    <tr>\n",
       "      <th>mean</th>\n",
       "      <td>0.905147</td>\n",
       "      <td>5.407096</td>\n",
       "    </tr>\n",
       "    <tr>\n",
       "      <th>std</th>\n",
       "      <td>0.398389</td>\n",
       "      <td>1.113120</td>\n",
       "    </tr>\n",
       "    <tr>\n",
       "      <th>min</th>\n",
       "      <td>0.000000</td>\n",
       "      <td>2.853000</td>\n",
       "    </tr>\n",
       "    <tr>\n",
       "      <th>25%</th>\n",
       "      <td>0.602750</td>\n",
       "      <td>4.544500</td>\n",
       "    </tr>\n",
       "    <tr>\n",
       "      <th>50%</th>\n",
       "      <td>0.960000</td>\n",
       "      <td>5.379500</td>\n",
       "    </tr>\n",
       "    <tr>\n",
       "      <th>75%</th>\n",
       "      <td>1.232500</td>\n",
       "      <td>6.184500</td>\n",
       "    </tr>\n",
       "    <tr>\n",
       "      <th>max</th>\n",
       "      <td>1.684000</td>\n",
       "      <td>7.769000</td>\n",
       "    </tr>\n",
       "  </tbody>\n",
       "</table>\n",
       "</div>"
      ],
      "text/plain": [
       "       GDP per capita       Score\n",
       "count      156.000000  156.000000\n",
       "mean         0.905147    5.407096\n",
       "std          0.398389    1.113120\n",
       "min          0.000000    2.853000\n",
       "25%          0.602750    4.544500\n",
       "50%          0.960000    5.379500\n",
       "75%          1.232500    6.184500\n",
       "max          1.684000    7.769000"
      ]
     },
     "execution_count": 14,
     "metadata": {},
     "output_type": "execute_result"
    }
   ],
   "source": [
    "data3_clean = data3[['Country or region', 'GDP per capita', 'Score']]\n",
    "print(data3_clean)\n",
    "indonesia = data3_clean.loc[(data3_clean['Country or region'] == \"Indonesia\")]\n",
    "print(indonesia)\n",
    "data3_clean.describe()\n",
    "#data3_clean.to_excel('population3_data.xlsx')"
   ]
  },
  {
   "cell_type": "code",
   "execution_count": 15,
   "metadata": {},
   "outputs": [
    {
     "name": "stdout",
     "output_type": "stream",
     "text": [
      "          Country or region  GDP per capita  Score\n",
      "1                   Denmark           1.383  7.600\n",
      "52                   Latvia           1.187  5.940\n",
      "69                   Serbia           1.004  5.603\n",
      "103                   Gabon           1.057  4.799\n",
      "35                    Italy           1.294  6.223\n",
      "91                Indonesia           0.931  5.192\n",
      "65                 Portugal           1.221  5.693\n",
      "16                  Germany           1.373  6.985\n",
      "6                    Sweden           1.387  7.343\n",
      "26                Guatemala           0.800  6.436\n",
      "42                 Colombia           0.985  6.125\n",
      "40               Uzbekistan           0.745  6.174\n",
      "137                  Zambia           0.578  4.107\n",
      "57                    Japan           1.327  5.886\n",
      "94                   Bhutan           0.813  5.082\n",
      "133                Ethiopia           0.336  4.286\n",
      "118                 Georgia           0.886  4.519\n",
      "106                 Albania           0.947  4.719\n",
      "77   Bosnia and Herzegovina           0.945  5.386\n",
      "53              South Korea           1.301  5.895\n",
      "23                   France           1.324  6.592\n",
      "138                    Togo           0.275  4.085\n",
      "14           United Kingdom           1.333  7.054\n",
      "43                 Slovenia           1.258  6.118\n",
      "21                    Malta           1.300  6.726\n",
      "13               Luxembourg           1.609  7.090\n",
      "49                  Ecuador           0.912  6.028\n",
      "62                 Paraguay           0.855  5.743\n",
      "110                 Senegal           0.450  4.681\n",
      "100                  Jordan           0.837  4.906\n"
     ]
    }
   ],
   "source": [
    "samp = data3_clean.sample(n=30)\n",
    "#samp.to_excel('sample3_data.xlsx')\n",
    "print(samp)"
   ]
  },
  {
   "cell_type": "code",
   "execution_count": 23,
   "metadata": {},
   "outputs": [
    {
     "name": "stdout",
     "output_type": "stream",
     "text": [
      "            Country or region      X      Y       X^2        Y^2         XY\n",
      "0                     Finland  1.340  7.769  1.795600  60.357361  10.410460\n",
      "1                     Denmark  1.383  7.600  1.912689  57.760000  10.510800\n",
      "2                      Norway  1.488  7.554  2.214144  57.062916  11.240352\n",
      "3                     Iceland  1.380  7.494  1.904400  56.160036  10.341720\n",
      "4                 Netherlands  1.396  7.488  1.948816  56.070144  10.453248\n",
      "..                        ...    ...    ...       ...        ...        ...\n",
      "151                    Rwanda  0.359  3.334  0.128881  11.115556   1.196906\n",
      "152                  Tanzania  0.476  3.231  0.226576  10.439361   1.537956\n",
      "153               Afghanistan  0.350  3.203  0.122500  10.259209   1.121050\n",
      "154  Central African Republic  0.026  3.083  0.000676   9.504889   0.080158\n",
      "155               South Sudan  0.306  2.853  0.093636   8.139609   0.873018\n",
      "\n",
      "[156 rows x 6 columns]\n",
      "b =   2.2181480010083603\n",
      "a =   3.399345178292416\n"
     ]
    }
   ],
   "source": [
    "#creating artificial table\n",
    "subject = pd.Series(data3_clean['Country or region'])\n",
    "x = pd.Series(data3_clean['GDP per capita'])\n",
    "y = pd.Series(data3_clean['Score'])\n",
    "y_square = pd.Series([i ** 2 for i in y])\n",
    "x_square = pd.Series([i ** 2 for i in x])\n",
    "x_y = pd.Series([x[i] * y[i] for i in range(len(x))])\n",
    "data = pd.DataFrame({'Country or region' : subject, 'X' : x, 'Y' : y, 'X^2' : x_square, 'Y^2' : y_square, 'XY' : x_y})\n",
    "print(data)\n",
    "#data.to_excel('population3_data.xlsx')\n",
    "n = 156\n",
    "#y=mx+c\n",
    "m = ( n * data['XY'].sum() - data['X'].sum() * data['Y'].sum() ) / ( n * data['X^2'].sum() - data['X'].sum() ** 2)\n",
    "c = (data['Y'].sum() * data['X^2'].sum() - data['X'].sum() * data['XY'].sum()) / (n * data['X^2'].sum() - data['X'].sum() ** 2)\n",
    "print(\"b =  \", m)\n",
    "print(\"a =  \", c)"
   ]
  },
  {
   "cell_type": "code",
   "execution_count": 22,
   "metadata": {},
   "outputs": [
    {
     "name": "stdout",
     "output_type": "stream",
     "text": [
      "∑XY =  818.066182\n",
      "∑X =  141.203\n",
      "∑Y =  843.507\n",
      "∑X^2 =  152.41022900000002\n",
      "(∑X)^2 =  19938.287209000002\n",
      "∑Y^2 =  4752.974011\n",
      "(∑Y)^2 =  711504.0590489999\n",
      "R =  0.7938828678781272\n"
     ]
    }
   ],
   "source": [
    "\n",
    "print(\"∑XY = \", data['XY'].sum())\n",
    "print(\"∑X = \", data['X'].sum())\n",
    "print(\"∑Y = \", data['Y'].sum())\n",
    "print(\"∑X^2 = \", data['X^2'].sum())\n",
    "print(\"(∑X)^2 = \", data['X'].sum() ** 2)\n",
    "print(\"∑Y^2 = \", data['Y^2'].sum())\n",
    "print(\"(∑Y)^2 = \", data['Y'].sum() ** 2)\n",
    "\n",
    "#R\n",
    "r = (n * data['XY'].sum() - data['X'].sum() * data['Y'].sum()) \n",
    "r /= (math.sqrt((n * data['X^2'].sum() - data['X'].sum() ** 2) * (n * data['Y^2'].sum() - data['Y'].sum() ** 2)))\n",
    "print(\"R = \", r)"
   ]
  },
  {
   "cell_type": "code",
   "execution_count": 43,
   "metadata": {},
   "outputs": [
    {
     "data": {
      "image/png": "[encoded data removed]",
      "text/plain": [
       "<Figure size 432x288 with 1 Axes>"
      ]
     },
     "metadata": {
      "needs_background": "light"
     },
     "output_type": "display_data"
    }
   ],
   "source": [
    "#print((m, c))\n",
    "def get_prediction(x):\n",
    "  return m*x + c\n",
    "\n",
    "#inp = data\n",
    "#print(inp)\n",
    "x_plot = np.linspace(data['X'].min(), data['X'].max())\n",
    "#indo_x = 0.931\n",
    "#plt.plot(indo_x, get_prediction(indo_x), 'ro') # predictions (Red Dot)\n",
    "plt.plot(inp['X'], inp['Y'], 'bo') # input data (Blue Dot)\n",
    "plt.plot(x_plot, get_prediction(x_plot), 'r') # Line\n",
    "plt.title('Grafik regresi linear GDP dengan Happiness Score')\n",
    "plt.show()"
   ]
  },
  {
   "cell_type": "code",
   "execution_count": 39,
   "metadata": {},
   "outputs": [
    {
     "name": "stdout",
     "output_type": "stream",
     "text": [
      "   Country or region  GDP per capita  Score\n",
      "91         Indonesia           0.931  5.192\n",
      "\n",
      "Actual Happiness Score Indonesia = 5.192\n",
      "Predicted Happiness Score Indonesia = 5.464441\n"
     ]
    },
    {
     "data": {
      "image/png": "[encoded data removed]",
      "text/plain": [
       "<Figure size 432x288 with 1 Axes>"
      ]
     },
     "metadata": {
      "needs_background": "light"
     },
     "output_type": "display_data"
    }
   ],
   "source": [
    "x_plot = np.linspace(data['X'].min(), data['X'].max())\n",
    "indo_x = 0.931\n",
    "indonesia = data3_clean.loc[(data3_clean['Country or region'] == \"Indonesia\")]\n",
    "print(indonesia)\n",
    "print()\n",
    "print(\"Actual Happiness Score Indonesia = 5.192\")\n",
    "print(\"Predicted Happiness Score Indonesia = 5.464441\")\n",
    "\n",
    "plt.plot(indonesia['GDP per capita'], get_prediction(indonesia['GDP per capita']), 'go') # predictions (Red Dot)\n",
    "\n",
    "#plt.plot(inp['X'], inp['Y'], 'bo') # input data (Blue Dot)\n",
    "plt.plot(indonesia['GDP per capita'], indonesia['Score'], 'bo')\n",
    "plt.plot(x_plot, get_prediction(x_plot), 'r') # Line\n",
    "plt.title('Grafik regresi linear GDP dengan Happiness Score[INDONESIA]')\n",
    "plt.show()"
   ]
  },
  {
   "cell_type": "code",
   "execution_count": 42,
   "metadata": {},
   "outputs": [
    {
     "name": "stdout",
     "output_type": "stream",
     "text": [
      "21.70000054478138\n"
     ]
    }
   ],
   "source": [
    "t1 = 0.7938828678781272 * math.sqrt(154)\n",
    "t2 = math.sqrt( (1-0.7938828678781272))\n",
    "t = t1/t2\n",
    "print(t)"
   ]
  },
  {
   "cell_type": "code",
   "execution_count": null,
   "metadata": {},
   "outputs": [],
   "source": []
  }
 ],
 "metadata": {
  "kernelspec": {
   "display_name": "Python 3",
   "language": "python",
   "name": "python3"
  },
  "language_info": {
   "codemirror_mode": {
    "name": "ipython",
    "version": 3
   },
   "file_extension": ".py",
   "mimetype": "text/x-python",
   "name": "python",
   "nbconvert_exporter": "python",
   "pygments_lexer": "ipython3",
   "version": "3.8.5"
  }
 },
 "nbformat": 4,
 "nbformat_minor": 4
}
